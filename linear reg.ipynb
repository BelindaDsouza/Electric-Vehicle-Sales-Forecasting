{
 "cells": [
  {
   "cell_type": "code",
   "execution_count": 2,
   "id": "26651e3e",
   "metadata": {},
   "outputs": [
    {
     "name": "stdout",
     "output_type": "stream",
     "text": [
      "The head of the dataset is:\n",
      "       region    category       parameter  mode powertrain  year      unit  \\\n",
      "0  Australia  Historical        EV sales  Cars        BEV  2011  Vehicles   \n",
      "1  Australia  Historical        EV stock  Cars        BEV  2011  Vehicles   \n",
      "2  Australia  Historical  EV sales share  Cars         EV  2011   percent   \n",
      "3  Australia  Historical  EV stock share  Cars         EV  2011   percent   \n",
      "4  Australia  Historical  EV stock share  Cars         EV  2012   percent   \n",
      "\n",
      "      value  \n",
      "0  49.00000  \n",
      "1  49.00000  \n",
      "2   0.00650  \n",
      "3   0.00046  \n",
      "4   0.00280   \n",
      "\n",
      "There are  10079  instances\n"
     ]
    }
   ],
   "source": [
    "import pandas as pd\n",
    "#Importing the dataset\n",
    "data=pd.read_csv(\"IEA GEVO 2023 data.csv\")\n",
    "#Head of the dataset\n",
    "print(\"The head of the dataset is:\\n\",data.head(5),'\\n')\n",
    "#Instances\n",
    "print(\"There are \",len(data.axes[0]),\" instances\")"
   ]
  },
  {
   "cell_type": "code",
   "execution_count": 3,
   "id": "be54e786",
   "metadata": {},
   "outputs": [
    {
     "name": "stdout",
     "output_type": "stream",
     "text": [
      "         region    category parameter  mode powertrain  year      unit  \\\n",
      "10    Australia  Historical  EV sales  Cars        BEV  2013  Vehicles   \n",
      "11    Australia  Historical  EV sales  Cars       PHEV  2013  Vehicles   \n",
      "20    Australia  Historical  EV sales  Cars       PHEV  2014  Vehicles   \n",
      "21    Australia  Historical  EV sales  Cars        BEV  2014  Vehicles   \n",
      "22    Australia  Historical  EV sales  Cars        BEV  2015  Vehicles   \n",
      "...         ...         ...       ...   ...        ...   ...       ...   \n",
      "8902        USA  Historical  EV sales  Cars        BEV  2020  Vehicles   \n",
      "8951        USA  Historical  EV sales  Cars        BEV  2021  Vehicles   \n",
      "8956        USA  Historical  EV sales  Cars       PHEV  2021  Vehicles   \n",
      "8959        USA  Historical  EV sales  Cars       PHEV  2022  Vehicles   \n",
      "8964        USA  Historical  EV sales  Cars        BEV  2022  Vehicles   \n",
      "\n",
      "         value  \n",
      "10       190.0  \n",
      "11       100.0  \n",
      "20       950.0  \n",
      "21       370.0  \n",
      "22       760.0  \n",
      "...        ...  \n",
      "8902  230000.0  \n",
      "8951  470000.0  \n",
      "8956  160000.0  \n",
      "8959  190000.0  \n",
      "8964  800000.0  \n",
      "\n",
      "[1316 rows x 8 columns]\n"
     ]
    }
   ],
   "source": [
    "year_to_delete=[2010,2011,2012,2025,2030]\n",
    "df=data.loc[~data['year'].isin(year_to_delete)]\n",
    "\n",
    "#Deleting regions which are not applicable for analysis\n",
    "region_to_delete=['EU27','Other Europe','Rest of the world','World']\n",
    "df=df.loc[~df['region'].isin(region_to_delete)]\n",
    "\n",
    "#Deleting parameters which are not applicable for analysis\n",
    "parameter_to_delete=['EV sales share', 'EV stock share','EV stock','Oil displacement, million lge','Oil displacement Mbd','EV charging points','Electricity demand']\n",
    "df=df.loc[~df['parameter'].isin(parameter_to_delete)]\n",
    "\n",
    "#Deleting categorys which are not applicable for analysis\n",
    "category_to_delete=['Projection-STEPS','Projection-APS']\n",
    "df=df.loc[~df['category'].isin(category_to_delete)]\n",
    "print(df)"
   ]
  },
  {
   "cell_type": "code",
   "execution_count": 4,
   "id": "c99fba32",
   "metadata": {},
   "outputs": [
    {
     "data": {
      "text/html": [
       "<div>\n",
       "<style scoped>\n",
       "    .dataframe tbody tr th:only-of-type {\n",
       "        vertical-align: middle;\n",
       "    }\n",
       "\n",
       "    .dataframe tbody tr th {\n",
       "        vertical-align: top;\n",
       "    }\n",
       "\n",
       "    .dataframe thead th {\n",
       "        text-align: right;\n",
       "    }\n",
       "</style>\n",
       "<table border=\"1\" class=\"dataframe\">\n",
       "  <thead>\n",
       "    <tr style=\"text-align: right;\">\n",
       "      <th></th>\n",
       "      <th>year</th>\n",
       "      <th>value</th>\n",
       "    </tr>\n",
       "  </thead>\n",
       "  <tbody>\n",
       "    <tr>\n",
       "      <th>0</th>\n",
       "      <td>2013</td>\n",
       "      <td>2.881130e+05</td>\n",
       "    </tr>\n",
       "    <tr>\n",
       "      <th>1</th>\n",
       "      <td>2014</td>\n",
       "      <td>4.576780e+05</td>\n",
       "    </tr>\n",
       "    <tr>\n",
       "      <th>2</th>\n",
       "      <td>2015</td>\n",
       "      <td>9.099040e+05</td>\n",
       "    </tr>\n",
       "    <tr>\n",
       "      <th>3</th>\n",
       "      <td>2016</td>\n",
       "      <td>1.121243e+06</td>\n",
       "    </tr>\n",
       "    <tr>\n",
       "      <th>4</th>\n",
       "      <td>2017</td>\n",
       "      <td>1.731703e+06</td>\n",
       "    </tr>\n",
       "    <tr>\n",
       "      <th>5</th>\n",
       "      <td>2018</td>\n",
       "      <td>2.651572e+06</td>\n",
       "    </tr>\n",
       "    <tr>\n",
       "      <th>6</th>\n",
       "      <td>2019</td>\n",
       "      <td>2.864301e+06</td>\n",
       "    </tr>\n",
       "    <tr>\n",
       "      <th>7</th>\n",
       "      <td>2020</td>\n",
       "      <td>4.529404e+06</td>\n",
       "    </tr>\n",
       "    <tr>\n",
       "      <th>8</th>\n",
       "      <td>2021</td>\n",
       "      <td>9.025455e+06</td>\n",
       "    </tr>\n",
       "    <tr>\n",
       "      <th>9</th>\n",
       "      <td>2022</td>\n",
       "      <td>1.309026e+07</td>\n",
       "    </tr>\n",
       "  </tbody>\n",
       "</table>\n",
       "</div>"
      ],
      "text/plain": [
       "   year         value\n",
       "0  2013  2.881130e+05\n",
       "1  2014  4.576780e+05\n",
       "2  2015  9.099040e+05\n",
       "3  2016  1.121243e+06\n",
       "4  2017  1.731703e+06\n",
       "5  2018  2.651572e+06\n",
       "6  2019  2.864301e+06\n",
       "7  2020  4.529404e+06\n",
       "8  2021  9.025455e+06\n",
       "9  2022  1.309026e+07"
      ]
     },
     "execution_count": 4,
     "metadata": {},
     "output_type": "execute_result"
    }
   ],
   "source": [
    "df = df.groupby('year')['value'].sum().reset_index()\n",
    "df"
   ]
  },
  {
   "cell_type": "code",
   "execution_count": 5,
   "id": "53f692df",
   "metadata": {},
   "outputs": [],
   "source": [
    "import pandas as pd\n",
    "import numpy as np\n",
    "#import xgboost as xgb\n",
    "import matplotlib.pyplot as plt"
   ]
  },
  {
   "cell_type": "code",
   "execution_count": 6,
   "id": "d956b7af",
   "metadata": {},
   "outputs": [],
   "source": [
    "# Extract features (year) and target (value)\n",
    "X = df[['year']]\n",
    "y = df['value']"
   ]
  },
  {
   "cell_type": "code",
   "execution_count": 7,
   "id": "87b27a1e",
   "metadata": {},
   "outputs": [],
   "source": [
    "from sklearn.linear_model import LinearRegression"
   ]
  },
  {
   "cell_type": "code",
   "execution_count": 8,
   "id": "c6fb392f",
   "metadata": {},
   "outputs": [],
   "source": [
    "linearRegression = LinearRegression()\n",
    "lr=linearRegression.fit(X,y)"
   ]
  },
  {
   "cell_type": "code",
   "execution_count": 9,
   "id": "33aa6404",
   "metadata": {},
   "outputs": [
    {
     "data": {
      "text/html": [
       "<div>\n",
       "<style scoped>\n",
       "    .dataframe tbody tr th:only-of-type {\n",
       "        vertical-align: middle;\n",
       "    }\n",
       "\n",
       "    .dataframe tbody tr th {\n",
       "        vertical-align: top;\n",
       "    }\n",
       "\n",
       "    .dataframe thead th {\n",
       "        text-align: right;\n",
       "    }\n",
       "</style>\n",
       "<table border=\"1\" class=\"dataframe\">\n",
       "  <thead>\n",
       "    <tr style=\"text-align: right;\">\n",
       "      <th></th>\n",
       "      <th>year</th>\n",
       "      <th>value</th>\n",
       "    </tr>\n",
       "  </thead>\n",
       "  <tbody>\n",
       "    <tr>\n",
       "      <th>0</th>\n",
       "      <td>2023</td>\n",
       "      <td>1.031497e+07</td>\n",
       "    </tr>\n",
       "    <tr>\n",
       "      <th>1</th>\n",
       "      <td>2024</td>\n",
       "      <td>1.152370e+07</td>\n",
       "    </tr>\n",
       "    <tr>\n",
       "      <th>2</th>\n",
       "      <td>2025</td>\n",
       "      <td>1.273243e+07</td>\n",
       "    </tr>\n",
       "    <tr>\n",
       "      <th>3</th>\n",
       "      <td>2026</td>\n",
       "      <td>1.394116e+07</td>\n",
       "    </tr>\n",
       "    <tr>\n",
       "      <th>4</th>\n",
       "      <td>2027</td>\n",
       "      <td>1.514989e+07</td>\n",
       "    </tr>\n",
       "  </tbody>\n",
       "</table>\n",
       "</div>"
      ],
      "text/plain": [
       "   year         value\n",
       "0  2023  1.031497e+07\n",
       "1  2024  1.152370e+07\n",
       "2  2025  1.273243e+07\n",
       "3  2026  1.394116e+07\n",
       "4  2027  1.514989e+07"
      ]
     },
     "execution_count": 9,
     "metadata": {},
     "output_type": "execute_result"
    }
   ],
   "source": [
    "# Make predictions for the next 5 years\n",
    "forecast_years = 5\n",
    "forecast = []\n",
    "# Predict for the next 5 years\n",
    "for year in range(2023, 2023 + forecast_years):\n",
    "    prediction = linearRegression.predict(np.array([[year]]))\n",
    "    forecast.append(prediction[0])\n",
    "\n",
    "# Create a DataFrame for the forecasted years\n",
    "forecast_df = pd.DataFrame({'year': range(2023, 2023 + forecast_years), 'value': forecast})\n",
    "forecast_df"
   ]
  },
  {
   "cell_type": "code",
   "execution_count": 10,
   "id": "f4b68835",
   "metadata": {},
   "outputs": [
    {
     "data": {
      "image/png": "[encoded data removed]",
      "text/plain": [
       "<Figure size 864x432 with 1 Axes>"
      ]
     },
     "metadata": {
      "needs_background": "light"
     },
     "output_type": "display_data"
    }
   ],
   "source": [
    "# Plot the actual vs. forecasted values\n",
    "plt.figure(figsize=(12, 6))\n",
    "plt.plot(df['year'], df['value'], label='Actual', marker='o')\n",
    "plt.plot(forecast_df['year'], forecast_df['value'], label='Forecast', marker='x')\n",
    "plt.xlabel('Year')\n",
    "plt.ylabel('Value')\n",
    "plt.title('Sales Forecast for the Next 5 Years')\n",
    "plt.legend()\n",
    "plt.show()"
   ]
  },
  {
   "cell_type": "code",
   "execution_count": 11,
   "id": "515c94f9",
   "metadata": {},
   "outputs": [
    {
     "name": "stdout",
     "output_type": "stream",
     "text": [
      "Mean Absolute Error: 1691682.7406788424\n"
     ]
    }
   ],
   "source": [
    "from sklearn.metrics import mean_absolute_error\n",
    "\n",
    "y_pred = lr.predict(X)\n",
    "mae = mean_absolute_error(y, y_pred)\n",
    "print(\"Mean Absolute Error:\", mae)"
   ]
  },
  {
   "cell_type": "code",
   "execution_count": 12,
   "id": "549ec328",
   "metadata": {},
   "outputs": [
    {
     "name": "stdout",
     "output_type": "stream",
     "text": [
      "Mean Squared Error: 3893980164810.2827\n"
     ]
    }
   ],
   "source": [
    "from sklearn.metrics import mean_squared_error\n",
    "\n",
    "mse = mean_squared_error(y, y_pred)\n",
    "print(\"Mean Squared Error:\", mse)"
   ]
  },
  {
   "cell_type": "code",
   "execution_count": 13,
   "id": "97898716",
   "metadata": {},
   "outputs": [
    {
     "name": "stdout",
     "output_type": "stream",
     "text": [
      "R-squared: 1973317.0461966528\n"
     ]
    }
   ],
   "source": [
    "rmse = np.sqrt(mse)\n",
    "print(\"R-squared:\", rmse)"
   ]
  },
  {
   "cell_type": "code",
   "execution_count": 14,
   "id": "6c685df8",
   "metadata": {},
   "outputs": [
    {
     "data": {
      "text/plain": [
       "0.7558241373412856"
      ]
     },
     "execution_count": 14,
     "metadata": {},
     "output_type": "execute_result"
    }
   ],
   "source": [
    "from sklearn.metrics import r2_score\n",
    "r2=r2_score(y,y_pred)\n",
    "r2"
   ]
  },
  {
   "cell_type": "code",
   "execution_count": null,
   "id": "b5272787",
   "metadata": {},
   "outputs": [],
   "source": []
  }
 ],
 "metadata": {
  "kernelspec": {
   "display_name": "Python 3 (ipykernel)",
   "language": "python",
   "name": "python3"
  },
  "language_info": {
   "codemirror_mode": {
    "name": "ipython",
    "version": 3
   },
   "file_extension": ".py",
   "mimetype": "text/x-python",
   "name": "python",
   "nbconvert_exporter": "python",
   "pygments_lexer": "ipython3",
   "version": "3.11.3"
  }
 },
 "nbformat": 4,
 "nbformat_minor": 5
}
