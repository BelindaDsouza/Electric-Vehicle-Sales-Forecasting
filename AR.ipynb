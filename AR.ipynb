{
 "cells": [
  {
   "cell_type": "code",
   "execution_count": 22,
   "id": "347a364a",
   "metadata": {},
   "outputs": [
    {
     "name": "stdout",
     "output_type": "stream",
     "text": [
      "The head of the dataset is:\n",
      "       region    category       parameter  mode powertrain  year      unit  \\\n",
      "0  Australia  Historical        EV sales  Cars        BEV  2011  Vehicles   \n",
      "1  Australia  Historical        EV stock  Cars        BEV  2011  Vehicles   \n",
      "2  Australia  Historical  EV sales share  Cars         EV  2011   percent   \n",
      "3  Australia  Historical  EV stock share  Cars         EV  2011   percent   \n",
      "4  Australia  Historical  EV stock share  Cars         EV  2012   percent   \n",
      "\n",
      "      value  \n",
      "0  49.00000  \n",
      "1  49.00000  \n",
      "2   0.00650  \n",
      "3   0.00046  \n",
      "4   0.00280   \n",
      "\n",
      "There are  10079  instances\n"
     ]
    }
   ],
   "source": [
    "import pandas as pd\n",
    "#Importing the dataset\n",
    "data=pd.read_csv(\"IEA GEVO 2023 data.csv\")\n",
    "#Head of the dataset\n",
    "print(\"The head of the dataset is:\\n\",data.head(5),'\\n')\n",
    "#Instances\n",
    "print(\"There are \",len(data.axes[0]),\" instances\")"
   ]
  },
  {
   "cell_type": "code",
   "execution_count": 23,
   "id": "9085d4a4",
   "metadata": {},
   "outputs": [
    {
     "name": "stdout",
     "output_type": "stream",
     "text": [
      "         region    category parameter  mode powertrain  year      unit  \\\n",
      "10    Australia  Historical  EV sales  Cars        BEV  2013  Vehicles   \n",
      "11    Australia  Historical  EV sales  Cars       PHEV  2013  Vehicles   \n",
      "20    Australia  Historical  EV sales  Cars       PHEV  2014  Vehicles   \n",
      "21    Australia  Historical  EV sales  Cars        BEV  2014  Vehicles   \n",
      "22    Australia  Historical  EV sales  Cars        BEV  2015  Vehicles   \n",
      "...         ...         ...       ...   ...        ...   ...       ...   \n",
      "8902        USA  Historical  EV sales  Cars        BEV  2020  Vehicles   \n",
      "8951        USA  Historical  EV sales  Cars        BEV  2021  Vehicles   \n",
      "8956        USA  Historical  EV sales  Cars       PHEV  2021  Vehicles   \n",
      "8959        USA  Historical  EV sales  Cars       PHEV  2022  Vehicles   \n",
      "8964        USA  Historical  EV sales  Cars        BEV  2022  Vehicles   \n",
      "\n",
      "         value  \n",
      "10       190.0  \n",
      "11       100.0  \n",
      "20       950.0  \n",
      "21       370.0  \n",
      "22       760.0  \n",
      "...        ...  \n",
      "8902  230000.0  \n",
      "8951  470000.0  \n",
      "8956  160000.0  \n",
      "8959  190000.0  \n",
      "8964  800000.0  \n",
      "\n",
      "[1316 rows x 8 columns]\n"
     ]
    }
   ],
   "source": [
    "year_to_delete=[2010,2011,2012,2025,2030]\n",
    "df=data.loc[~data['year'].isin(year_to_delete)]\n",
    "\n",
    "#Deleting regions which are not applicable for analysis\n",
    "region_to_delete=['EU27','Other Europe','Rest of the world','World']\n",
    "df=df.loc[~df['region'].isin(region_to_delete)]\n",
    "\n",
    "#Deleting parameters which are not applicable for analysis\n",
    "parameter_to_delete=['EV sales share', 'EV stock share','EV stock','Oil displacement, million lge','Oil displacement Mbd','EV charging points','Electricity demand']\n",
    "df=df.loc[~df['parameter'].isin(parameter_to_delete)]\n",
    "\n",
    "#Deleting categorys which are not applicable for analysis\n",
    "category_to_delete=['Projection-STEPS','Projection-APS']\n",
    "df=df.loc[~df['category'].isin(category_to_delete)]\n",
    "print(df)"
   ]
  },
  {
   "cell_type": "code",
   "execution_count": 24,
   "id": "adea64d1",
   "metadata": {},
   "outputs": [
    {
     "data": {
      "text/html": [
       "<div>\n",
       "<style scoped>\n",
       "    .dataframe tbody tr th:only-of-type {\n",
       "        vertical-align: middle;\n",
       "    }\n",
       "\n",
       "    .dataframe tbody tr th {\n",
       "        vertical-align: top;\n",
       "    }\n",
       "\n",
       "    .dataframe thead th {\n",
       "        text-align: right;\n",
       "    }\n",
       "</style>\n",
       "<table border=\"1\" class=\"dataframe\">\n",
       "  <thead>\n",
       "    <tr style=\"text-align: right;\">\n",
       "      <th></th>\n",
       "      <th>year</th>\n",
       "      <th>value</th>\n",
       "    </tr>\n",
       "  </thead>\n",
       "  <tbody>\n",
       "    <tr>\n",
       "      <th>0</th>\n",
       "      <td>2013</td>\n",
       "      <td>288113</td>\n",
       "    </tr>\n",
       "    <tr>\n",
       "      <th>1</th>\n",
       "      <td>2014</td>\n",
       "      <td>457678</td>\n",
       "    </tr>\n",
       "    <tr>\n",
       "      <th>2</th>\n",
       "      <td>2015</td>\n",
       "      <td>909904</td>\n",
       "    </tr>\n",
       "    <tr>\n",
       "      <th>3</th>\n",
       "      <td>2016</td>\n",
       "      <td>1121243</td>\n",
       "    </tr>\n",
       "    <tr>\n",
       "      <th>4</th>\n",
       "      <td>2017</td>\n",
       "      <td>1731703</td>\n",
       "    </tr>\n",
       "    <tr>\n",
       "      <th>5</th>\n",
       "      <td>2018</td>\n",
       "      <td>2651572</td>\n",
       "    </tr>\n",
       "    <tr>\n",
       "      <th>6</th>\n",
       "      <td>2019</td>\n",
       "      <td>2864301</td>\n",
       "    </tr>\n",
       "    <tr>\n",
       "      <th>7</th>\n",
       "      <td>2020</td>\n",
       "      <td>4529404</td>\n",
       "    </tr>\n",
       "    <tr>\n",
       "      <th>8</th>\n",
       "      <td>2021</td>\n",
       "      <td>9025455</td>\n",
       "    </tr>\n",
       "    <tr>\n",
       "      <th>9</th>\n",
       "      <td>2022</td>\n",
       "      <td>13090256</td>\n",
       "    </tr>\n",
       "  </tbody>\n",
       "</table>\n",
       "</div>"
      ],
      "text/plain": [
       "   year     value\n",
       "0  2013    288113\n",
       "1  2014    457678\n",
       "2  2015    909904\n",
       "3  2016   1121243\n",
       "4  2017   1731703\n",
       "5  2018   2651572\n",
       "6  2019   2864301\n",
       "7  2020   4529404\n",
       "8  2021   9025455\n",
       "9  2022  13090256"
      ]
     },
     "execution_count": 24,
     "metadata": {},
     "output_type": "execute_result"
    }
   ],
   "source": [
    "df = df.groupby('year')['value'].sum().reset_index()\n",
    "df['value'] = df['value'].astype('int64')\n",
    "df"
   ]
  },
  {
   "cell_type": "code",
   "execution_count": 25,
   "id": "bbbe9bcd",
   "metadata": {},
   "outputs": [],
   "source": [
    "#pip install statsmodels --upgrade"
   ]
  },
  {
   "cell_type": "code",
   "execution_count": 26,
   "id": "dca2de19",
   "metadata": {},
   "outputs": [],
   "source": [
    "import pandas as pd\n",
    "import numpy as np\n",
    "import matplotlib.pyplot as plt\n",
    "import statsmodels.api as sm"
   ]
  },
  {
   "cell_type": "code",
   "execution_count": 27,
   "id": "233730e2",
   "metadata": {},
   "outputs": [],
   "source": [
    "from statsmodels.tsa.ar_model import AutoReg"
   ]
  },
  {
   "cell_type": "code",
   "execution_count": 28,
   "id": "d2452151",
   "metadata": {},
   "outputs": [],
   "source": [
    "ar_model = AutoReg(df['value'],lags = 1)\n",
    "ar_result = ar_model.fit()"
   ]
  },
  {
   "cell_type": "code",
   "execution_count": 29,
   "id": "861722a6",
   "metadata": {},
   "outputs": [],
   "source": [
    "forecast_years = 5\n",
    "forecast = ar_result.predict(start=len(df), end=len(df) + forecast_years - 1, dynamic=False)"
   ]
  },
  {
   "cell_type": "code",
   "execution_count": 30,
   "id": "abf4ca83",
   "metadata": {},
   "outputs": [
    {
     "data": {
      "text/plain": [
       "10    1.994841e+07\n",
       "11    3.036698e+07\n",
       "12    4.619437e+07\n",
       "13    7.023859e+07\n",
       "14    1.067654e+08\n",
       "dtype: float64"
      ]
     },
     "execution_count": 30,
     "metadata": {},
     "output_type": "execute_result"
    }
   ],
   "source": [
    "forecast"
   ]
  },
  {
   "cell_type": "code",
   "execution_count": 31,
   "id": "8fc2693f",
   "metadata": {},
   "outputs": [],
   "source": [
    "# Set 'year' as the index\n",
    "#df.set_index('year', inplace=True)"
   ]
  },
  {
   "cell_type": "code",
   "execution_count": 32,
   "id": "a83ee435",
   "metadata": {},
   "outputs": [],
   "source": [
    "# Create a date range for the forecasted years\n",
    "df.index = pd.to_datetime(df.year, format='%Y')\n",
    "last_year = df.index[-1].year\n",
    "next_year_date = last_year + 1\n",
    "next_years_range = pd.date_range(start=f\"{next_year_date}-01-01\", periods=forecast_years, freq='AS')"
   ]
  },
  {
   "cell_type": "code",
   "execution_count": 33,
   "id": "bde60597",
   "metadata": {},
   "outputs": [
    {
     "data": {
      "text/plain": [
       "2022"
      ]
     },
     "execution_count": 33,
     "metadata": {},
     "output_type": "execute_result"
    }
   ],
   "source": [
    "last_year"
   ]
  },
  {
   "cell_type": "code",
   "execution_count": 34,
   "id": "70952ae6",
   "metadata": {},
   "outputs": [
    {
     "data": {
      "text/plain": [
       "2023"
      ]
     },
     "execution_count": 34,
     "metadata": {},
     "output_type": "execute_result"
    }
   ],
   "source": [
    "next_year_date"
   ]
  },
  {
   "cell_type": "code",
   "execution_count": 35,
   "id": "a942e3a5",
   "metadata": {},
   "outputs": [
    {
     "data": {
      "text/plain": [
       "DatetimeIndex(['2023-01-01', '2024-01-01', '2025-01-01', '2026-01-01',\n",
       "               '2027-01-01'],\n",
       "              dtype='datetime64[ns]', freq='AS-JAN')"
      ]
     },
     "execution_count": 35,
     "metadata": {},
     "output_type": "execute_result"
    }
   ],
   "source": [
    "next_years_range"
   ]
  },
  {
   "cell_type": "code",
   "execution_count": 36,
   "id": "397da15e",
   "metadata": {},
   "outputs": [],
   "source": [
    "# Create a DataFrame for the forecasted years\n",
    "forecast_df = pd.DataFrame({'year': next_years_range, 'value': forecast})\n",
    "forecast_df['value'] = forecast_df['value'].astype('int64')\n",
    "#forecast_df.set_index('year', inplace=True)"
   ]
  },
  {
   "cell_type": "code",
   "execution_count": 37,
   "id": "671ab641",
   "metadata": {},
   "outputs": [
    {
     "data": {
      "text/html": [
       "<div>\n",
       "<style scoped>\n",
       "    .dataframe tbody tr th:only-of-type {\n",
       "        vertical-align: middle;\n",
       "    }\n",
       "\n",
       "    .dataframe tbody tr th {\n",
       "        vertical-align: top;\n",
       "    }\n",
       "\n",
       "    .dataframe thead th {\n",
       "        text-align: right;\n",
       "    }\n",
       "</style>\n",
       "<table border=\"1\" class=\"dataframe\">\n",
       "  <thead>\n",
       "    <tr style=\"text-align: right;\">\n",
       "      <th></th>\n",
       "      <th>year</th>\n",
       "      <th>value</th>\n",
       "    </tr>\n",
       "  </thead>\n",
       "  <tbody>\n",
       "    <tr>\n",
       "      <th>10</th>\n",
       "      <td>2023-01-01</td>\n",
       "      <td>19948406</td>\n",
       "    </tr>\n",
       "    <tr>\n",
       "      <th>11</th>\n",
       "      <td>2024-01-01</td>\n",
       "      <td>30366977</td>\n",
       "    </tr>\n",
       "    <tr>\n",
       "      <th>12</th>\n",
       "      <td>2025-01-01</td>\n",
       "      <td>46194371</td>\n",
       "    </tr>\n",
       "    <tr>\n",
       "      <th>13</th>\n",
       "      <td>2026-01-01</td>\n",
       "      <td>70238585</td>\n",
       "    </tr>\n",
       "    <tr>\n",
       "      <th>14</th>\n",
       "      <td>2027-01-01</td>\n",
       "      <td>106765401</td>\n",
       "    </tr>\n",
       "  </tbody>\n",
       "</table>\n",
       "</div>"
      ],
      "text/plain": [
       "         year      value\n",
       "10 2023-01-01   19948406\n",
       "11 2024-01-01   30366977\n",
       "12 2025-01-01   46194371\n",
       "13 2026-01-01   70238585\n",
       "14 2027-01-01  106765401"
      ]
     },
     "execution_count": 37,
     "metadata": {},
     "output_type": "execute_result"
    }
   ],
   "source": [
    "forecast_df"
   ]
  },
  {
   "cell_type": "code",
   "execution_count": 43,
   "id": "8e671ab2",
   "metadata": {},
   "outputs": [
    {
     "data": {
      "image/png": "[encoded data removed]",
      "text/plain": [
       "<Figure size 1200x600 with 1 Axes>"
      ]
     },
     "metadata": {},
     "output_type": "display_data"
    }
   ],
   "source": [
    "# Plot the actual vs. forecasted values\n",
    "plt.figure(figsize=(12, 6))\n",
    "plt.plot(df.index, df['value'], label='Actual', marker='o')\n",
    "plt.plot(forecast_df.year, forecast_df['value'], label='Forecast', marker='x')\n",
    "plt.xlabel('Year')\n",
    "plt.ylabel('Value')\n",
    "plt.title('Sales Forecast for the Next 5 Years')\n",
    "plt.legend()\n",
    "plt.show()"
   ]
  },
  {
   "cell_type": "code",
   "execution_count": 40,
   "id": "11fcc325",
   "metadata": {},
   "outputs": [],
   "source": [
    "result=ar_result.fittedvalues"
   ]
  },
  {
   "cell_type": "code",
   "execution_count": 41,
   "id": "acdac08c",
   "metadata": {},
   "outputs": [
    {
     "name": "stdout",
     "output_type": "stream",
     "text": [
      "Mean Absolute Error (MAE): 522303.12\n",
      "Mean Squared Error (MSE): 716868847173.59\n",
      "Root Mean Squared Error (RMSE): 846681.08\n"
     ]
    }
   ],
   "source": [
    "from sklearn.metrics import mean_absolute_error, mean_squared_error\n",
    "import numpy as np\n",
    "\n",
    "# Assuming you have actual sales data for the testing period in a DataFrame 'actual_df'\n",
    "# 'forecast_mean' contains your forecasted values\n",
    "actual_sales = df['value']  # Replace 'sales' with the actual column name\n",
    "\n",
    "# Calculate MAE\n",
    "mae = mean_absolute_error(actual_sales, result)\n",
    "\n",
    "# Calculate MSE\n",
    "mse = mean_squared_error(actual_sales, result)\n",
    "\n",
    "# Calculate RMSE\n",
    "rmse = np.sqrt(mse)\n",
    "\n",
    "print(f\"Mean Absolute Error (MAE): {mae:.2f}\")\n",
    "print(f\"Mean Squared Error (MSE): {mse:.2f}\")\n",
    "print(f\"Root Mean Squared Error (RMSE): {rmse:.2f}\")"
   ]
  },
  {
   "cell_type": "code",
   "execution_count": 42,
   "id": "df688d24",
   "metadata": {},
   "outputs": [
    {
     "data": {
      "text/plain": [
       "0.9560470623575854"
      ]
     },
     "execution_count": 42,
     "metadata": {},
     "output_type": "execute_result"
    }
   ],
   "source": [
    "from sklearn.metrics import r2_score\n",
    "r2=r2_score(actual_sales, result)\n",
    "r2"
   ]
  },
  {
   "cell_type": "code",
   "execution_count": null,
   "id": "07ced87f",
   "metadata": {},
   "outputs": [],
   "source": []
  }
 ],
 "metadata": {
  "kernelspec": {
   "display_name": "Python 3 (ipykernel)",
   "language": "python",
   "name": "python3"
  },
  "language_info": {
   "codemirror_mode": {
    "name": "ipython",
    "version": 3
   },
   "file_extension": ".py",
   "mimetype": "text/x-python",
   "name": "python",
   "nbconvert_exporter": "python",
   "pygments_lexer": "ipython3",
   "version": "3.11.3"
  }
 },
 "nbformat": 4,
 "nbformat_minor": 5
}
