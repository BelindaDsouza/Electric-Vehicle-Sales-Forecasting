{
 "cells": [
  {
   "cell_type": "code",
   "execution_count": 1,
   "id": "e1c21fe2",
   "metadata": {},
   "outputs": [
    {
     "name": "stdout",
     "output_type": "stream",
     "text": [
      "The head of the dataset is:\n",
      "       region    category       parameter  mode powertrain  year      unit  \\\n",
      "0  Australia  Historical        EV sales  Cars        BEV  2011  Vehicles   \n",
      "1  Australia  Historical        EV stock  Cars        BEV  2011  Vehicles   \n",
      "2  Australia  Historical  EV sales share  Cars         EV  2011   percent   \n",
      "3  Australia  Historical  EV stock share  Cars         EV  2011   percent   \n",
      "4  Australia  Historical  EV stock share  Cars         EV  2012   percent   \n",
      "\n",
      "      value  \n",
      "0  49.00000  \n",
      "1  49.00000  \n",
      "2   0.00650  \n",
      "3   0.00046  \n",
      "4   0.00280   \n",
      "\n",
      "There are  10079  instances\n"
     ]
    }
   ],
   "source": [
    "import pandas as pd\n",
    "#Importing the dataset\n",
    "data=pd.read_csv(\"IEA GEVO 2023 data.csv\")\n",
    "#Head of the dataset\n",
    "print(\"The head of the dataset is:\\n\",data.head(5),'\\n')\n",
    "#Instances\n",
    "print(\"There are \",len(data.axes[0]),\" instances\")"
   ]
  },
  {
   "cell_type": "code",
   "execution_count": 2,
   "id": "bce3fb22",
   "metadata": {},
   "outputs": [
    {
     "name": "stdout",
     "output_type": "stream",
     "text": [
      "         region    category parameter  mode powertrain  year      unit  \\\n",
      "10    Australia  Historical  EV sales  Cars        BEV  2013  Vehicles   \n",
      "11    Australia  Historical  EV sales  Cars       PHEV  2013  Vehicles   \n",
      "20    Australia  Historical  EV sales  Cars       PHEV  2014  Vehicles   \n",
      "21    Australia  Historical  EV sales  Cars        BEV  2014  Vehicles   \n",
      "22    Australia  Historical  EV sales  Cars        BEV  2015  Vehicles   \n",
      "...         ...         ...       ...   ...        ...   ...       ...   \n",
      "8902        USA  Historical  EV sales  Cars        BEV  2020  Vehicles   \n",
      "8951        USA  Historical  EV sales  Cars        BEV  2021  Vehicles   \n",
      "8956        USA  Historical  EV sales  Cars       PHEV  2021  Vehicles   \n",
      "8959        USA  Historical  EV sales  Cars       PHEV  2022  Vehicles   \n",
      "8964        USA  Historical  EV sales  Cars        BEV  2022  Vehicles   \n",
      "\n",
      "         value  \n",
      "10       190.0  \n",
      "11       100.0  \n",
      "20       950.0  \n",
      "21       370.0  \n",
      "22       760.0  \n",
      "...        ...  \n",
      "8902  230000.0  \n",
      "8951  470000.0  \n",
      "8956  160000.0  \n",
      "8959  190000.0  \n",
      "8964  800000.0  \n",
      "\n",
      "[1316 rows x 8 columns]\n"
     ]
    }
   ],
   "source": [
    "year_to_delete=[2010,2011,2012,2025,2030]\n",
    "df=data.loc[~data['year'].isin(year_to_delete)]\n",
    "\n",
    "#Deleting regions which are not applicable for analysis\n",
    "region_to_delete=['EU27','Other Europe','Rest of the world','World']\n",
    "df=df.loc[~df['region'].isin(region_to_delete)]\n",
    "\n",
    "#Deleting parameters which are not applicable for analysis\n",
    "parameter_to_delete=['EV sales share', 'EV stock share','EV stock','Oil displacement, million lge','Oil displacement Mbd','EV charging points','Electricity demand']\n",
    "df=df.loc[~df['parameter'].isin(parameter_to_delete)]\n",
    "\n",
    "#Deleting categorys which are not applicable for analysis\n",
    "category_to_delete=['Projection-STEPS','Projection-APS']\n",
    "df=df.loc[~df['category'].isin(category_to_delete)]\n",
    "print(df)"
   ]
  },
  {
   "cell_type": "code",
   "execution_count": 3,
   "id": "4fd2dfef",
   "metadata": {},
   "outputs": [
    {
     "data": {
      "text/html": [
       "<div>\n",
       "<style scoped>\n",
       "    .dataframe tbody tr th:only-of-type {\n",
       "        vertical-align: middle;\n",
       "    }\n",
       "\n",
       "    .dataframe tbody tr th {\n",
       "        vertical-align: top;\n",
       "    }\n",
       "\n",
       "    .dataframe thead th {\n",
       "        text-align: right;\n",
       "    }\n",
       "</style>\n",
       "<table border=\"1\" class=\"dataframe\">\n",
       "  <thead>\n",
       "    <tr style=\"text-align: right;\">\n",
       "      <th></th>\n",
       "      <th>year</th>\n",
       "      <th>value</th>\n",
       "    </tr>\n",
       "  </thead>\n",
       "  <tbody>\n",
       "    <tr>\n",
       "      <th>0</th>\n",
       "      <td>2013</td>\n",
       "      <td>2.881130e+05</td>\n",
       "    </tr>\n",
       "    <tr>\n",
       "      <th>1</th>\n",
       "      <td>2014</td>\n",
       "      <td>4.576780e+05</td>\n",
       "    </tr>\n",
       "    <tr>\n",
       "      <th>2</th>\n",
       "      <td>2015</td>\n",
       "      <td>9.099040e+05</td>\n",
       "    </tr>\n",
       "    <tr>\n",
       "      <th>3</th>\n",
       "      <td>2016</td>\n",
       "      <td>1.121243e+06</td>\n",
       "    </tr>\n",
       "    <tr>\n",
       "      <th>4</th>\n",
       "      <td>2017</td>\n",
       "      <td>1.731703e+06</td>\n",
       "    </tr>\n",
       "    <tr>\n",
       "      <th>5</th>\n",
       "      <td>2018</td>\n",
       "      <td>2.651572e+06</td>\n",
       "    </tr>\n",
       "    <tr>\n",
       "      <th>6</th>\n",
       "      <td>2019</td>\n",
       "      <td>2.864301e+06</td>\n",
       "    </tr>\n",
       "    <tr>\n",
       "      <th>7</th>\n",
       "      <td>2020</td>\n",
       "      <td>4.529404e+06</td>\n",
       "    </tr>\n",
       "    <tr>\n",
       "      <th>8</th>\n",
       "      <td>2021</td>\n",
       "      <td>9.025455e+06</td>\n",
       "    </tr>\n",
       "    <tr>\n",
       "      <th>9</th>\n",
       "      <td>2022</td>\n",
       "      <td>1.309026e+07</td>\n",
       "    </tr>\n",
       "  </tbody>\n",
       "</table>\n",
       "</div>"
      ],
      "text/plain": [
       "   year         value\n",
       "0  2013  2.881130e+05\n",
       "1  2014  4.576780e+05\n",
       "2  2015  9.099040e+05\n",
       "3  2016  1.121243e+06\n",
       "4  2017  1.731703e+06\n",
       "5  2018  2.651572e+06\n",
       "6  2019  2.864301e+06\n",
       "7  2020  4.529404e+06\n",
       "8  2021  9.025455e+06\n",
       "9  2022  1.309026e+07"
      ]
     },
     "execution_count": 3,
     "metadata": {},
     "output_type": "execute_result"
    }
   ],
   "source": [
    "df = df.groupby('year')['value'].sum().reset_index()\n",
    "df"
   ]
  },
  {
   "cell_type": "code",
   "execution_count": 4,
   "id": "a49fb8ef",
   "metadata": {},
   "outputs": [],
   "source": [
    "import numpy as np\n",
    "import pandas as pd\n",
    "import matplotlib.pyplot as plt\n",
    "from sklearn.preprocessing import MinMaxScaler\n",
    "from tensorflow.keras.models import Sequential\n",
    "from tensorflow.keras.layers import LSTM, Dense"
   ]
  },
  {
   "cell_type": "code",
   "execution_count": 5,
   "id": "0efb7bc9",
   "metadata": {},
   "outputs": [],
   "source": [
    "# Define the number of time steps (look-back)\n",
    "look_back = 1  # Adjust as needed\n",
    "\n",
    "# Create sequences of data\n",
    "X, y = [], []\n",
    "for i in range(len(df) - look_back):\n",
    "    X.append(df['year'].values[i:i+look_back])\n",
    "    y.append(df['value'].values[i+look_back])\n",
    "\n",
    "X, y = np.array(X), np.array(y)"
   ]
  },
  {
   "cell_type": "code",
   "execution_count": 6,
   "id": "366e6d54",
   "metadata": {},
   "outputs": [],
   "source": [
    "X = X.reshape(X.shape[0], X.shape[1], 1)"
   ]
  },
  {
   "cell_type": "code",
   "execution_count": 7,
   "id": "bcc4f7a4",
   "metadata": {},
   "outputs": [
    {
     "data": {
      "text/plain": [
       "array([[[2013]],\n",
       "\n",
       "       [[2014]],\n",
       "\n",
       "       [[2015]],\n",
       "\n",
       "       [[2016]],\n",
       "\n",
       "       [[2017]],\n",
       "\n",
       "       [[2018]],\n",
       "\n",
       "       [[2019]],\n",
       "\n",
       "       [[2020]],\n",
       "\n",
       "       [[2021]]], dtype=int64)"
      ]
     },
     "execution_count": 7,
     "metadata": {},
     "output_type": "execute_result"
    }
   ],
   "source": [
    "X"
   ]
  },
  {
   "cell_type": "code",
   "execution_count": 8,
   "id": "31ff5495",
   "metadata": {},
   "outputs": [
    {
     "name": "stdout",
     "output_type": "stream",
     "text": [
      "Epoch 1/100\n",
      "1/1 [==============================] - 6s 6s/step - loss: 32651903762432.0000\n",
      "Epoch 2/100\n",
      "1/1 [==============================] - 0s 38ms/step - loss: 32651773739008.0000\n",
      "Epoch 3/100\n",
      "1/1 [==============================] - 0s 16ms/step - loss: 32651660492800.0000\n",
      "Epoch 4/100\n",
      "1/1 [==============================] - 0s 16ms/step - loss: 32651616452608.0000\n",
      "Epoch 5/100\n",
      "1/1 [==============================] - 0s 7ms/step - loss: 32651582898176.0000\n",
      "Epoch 6/100\n",
      "1/1 [==============================] - 0s 31ms/step - loss: 32651549343744.0000\n",
      "Epoch 7/100\n",
      "1/1 [==============================] - 0s 16ms/step - loss: 32651519983616.0000\n",
      "Epoch 8/100\n",
      "1/1 [==============================] - 0s 16ms/step - loss: 32651496914944.0000\n",
      "Epoch 9/100\n",
      "1/1 [==============================] - 0s 22ms/step - loss: 32651478040576.0000\n",
      "Epoch 10/100\n",
      "1/1 [==============================] - 0s 10ms/step - loss: 32651459166208.0000\n",
      "Epoch 11/100\n",
      "1/1 [==============================] - 0s 10ms/step - loss: 32651438194688.0000\n",
      "Epoch 12/100\n",
      "1/1 [==============================] - 0s 18ms/step - loss: 32651423514624.0000\n",
      "Epoch 13/100\n",
      "1/1 [==============================] - 0s 18ms/step - loss: 32651406737408.0000\n",
      "Epoch 14/100\n",
      "1/1 [==============================] - 0s 10ms/step - loss: 32651389960192.0000\n",
      "Epoch 15/100\n",
      "1/1 [==============================] - 0s 10ms/step - loss: 32651373182976.0000\n",
      "Epoch 16/100\n",
      "1/1 [==============================] - 0s 12ms/step - loss: 32651356405760.0000\n",
      "Epoch 17/100\n",
      "1/1 [==============================] - 0s 10ms/step - loss: 32651333337088.0000\n",
      "Epoch 18/100\n",
      "1/1 [==============================] - 0s 10ms/step - loss: 32651318657024.0000\n",
      "Epoch 19/100\n",
      "1/1 [==============================] - 0s 10ms/step - loss: 32651299782656.0000\n",
      "Epoch 20/100\n",
      "1/1 [==============================] - 0s 18ms/step - loss: 32651285102592.0000\n",
      "Epoch 21/100\n",
      "1/1 [==============================] - 0s 10ms/step - loss: 32651266228224.0000\n",
      "Epoch 22/100\n",
      "1/1 [==============================] - 0s 20ms/step - loss: 32651243159552.0000\n",
      "Epoch 23/100\n",
      "1/1 [==============================] - 0s 10ms/step - loss: 32651228479488.0000\n",
      "Epoch 24/100\n",
      "1/1 [==============================] - 0s 10ms/step - loss: 32651205410816.0000\n",
      "Epoch 25/100\n",
      "1/1 [==============================] - 0s 20ms/step - loss: 32651171856384.0000\n",
      "Epoch 26/100\n",
      "1/1 [==============================] - 0s 20ms/step - loss: 32651123621888.0000\n",
      "Epoch 27/100\n",
      "1/1 [==============================] - 0s 20ms/step - loss: 32651064901632.0000\n",
      "Epoch 28/100\n",
      "1/1 [==============================] - 0s 20ms/step - loss: 32651035541504.0000\n",
      "Epoch 29/100\n",
      "1/1 [==============================] - 0s 10ms/step - loss: 32651008278528.0000\n",
      "Epoch 30/100\n",
      "1/1 [==============================] - 0s 20ms/step - loss: 32650987307008.0000\n",
      "Epoch 31/100\n",
      "1/1 [==============================] - 0s 20ms/step - loss: 32650964238336.0000\n",
      "Epoch 32/100\n",
      "1/1 [==============================] - 0s 20ms/step - loss: 32650941169664.0000\n",
      "Epoch 33/100\n",
      "1/1 [==============================] - 0s 20ms/step - loss: 32650922295296.0000\n",
      "Epoch 34/100\n",
      "1/1 [==============================] - 0s 28ms/step - loss: 32650897129472.0000\n",
      "Epoch 35/100\n",
      "1/1 [==============================] - 0s 20ms/step - loss: 32650874060800.0000\n",
      "Epoch 36/100\n",
      "1/1 [==============================] - 0s 20ms/step - loss: 32650848894976.0000\n",
      "Epoch 37/100\n",
      "1/1 [==============================] - 0s 18ms/step - loss: 32650825826304.0000\n",
      "Epoch 38/100\n",
      "1/1 [==============================] - 0s 18ms/step - loss: 32650800660480.0000\n",
      "Epoch 39/100\n",
      "1/1 [==============================] - 0s 20ms/step - loss: 32650777591808.0000\n",
      "Epoch 40/100\n",
      "1/1 [==============================] - 0s 10ms/step - loss: 32650752425984.0000\n",
      "Epoch 41/100\n",
      "1/1 [==============================] - 0s 10ms/step - loss: 32650729357312.0000\n",
      "Epoch 42/100\n",
      "1/1 [==============================] - 0s 10ms/step - loss: 32650702094336.0000\n",
      "Epoch 43/100\n",
      "1/1 [==============================] - 0s 20ms/step - loss: 32650676928512.0000\n",
      "Epoch 44/100\n",
      "1/1 [==============================] - 0s 20ms/step - loss: 32650658054144.0000\n",
      "Epoch 45/100\n",
      "1/1 [==============================] - 0s 20ms/step - loss: 32650632888320.0000\n",
      "Epoch 46/100\n",
      "1/1 [==============================] - 0s 20ms/step - loss: 32650609819648.0000\n",
      "Epoch 47/100\n",
      "1/1 [==============================] - 0s 18ms/step - loss: 32650584653824.0000\n",
      "Epoch 48/100\n",
      "1/1 [==============================] - 0s 30ms/step - loss: 32650557390848.0000\n",
      "Epoch 49/100\n",
      "1/1 [==============================] - 0s 10ms/step - loss: 32650534322176.0000\n",
      "Epoch 50/100\n",
      "1/1 [==============================] - 0s 10ms/step - loss: 32650519642112.0000\n",
      "Epoch 51/100\n",
      "1/1 [==============================] - 0s 20ms/step - loss: 32650490281984.0000\n",
      "Epoch 52/100\n",
      "1/1 [==============================] - 0s 20ms/step - loss: 32650467213312.0000\n",
      "Epoch 53/100\n",
      "1/1 [==============================] - 0s 20ms/step - loss: 32650450436096.0000\n",
      "Epoch 54/100\n",
      "1/1 [==============================] - 0s 28ms/step - loss: 32650427367424.0000\n",
      "Epoch 55/100\n",
      "1/1 [==============================] - 0s 20ms/step - loss: 32650400104448.0000\n",
      "Epoch 56/100\n",
      "1/1 [==============================] - 0s 20ms/step - loss: 32650383327232.0000\n",
      "Epoch 57/100\n",
      "1/1 [==============================] - 0s 20ms/step - loss: 32650356064256.0000\n",
      "Epoch 58/100\n",
      "1/1 [==============================] - 0s 22ms/step - loss: 32650332995584.0000\n",
      "Epoch 59/100\n",
      "1/1 [==============================] - 0s 12ms/step - loss: 32650312024064.0000\n",
      "Epoch 60/100\n",
      "1/1 [==============================] - 0s 18ms/step - loss: 32650288955392.0000\n",
      "Epoch 61/100\n",
      "1/1 [==============================] - 0s 18ms/step - loss: 32650265886720.0000\n",
      "Epoch 62/100\n",
      "1/1 [==============================] - 0s 18ms/step - loss: 32650240720896.0000\n",
      "Epoch 63/100\n",
      "1/1 [==============================] - 0s 20ms/step - loss: 32650221846528.0000\n",
      "Epoch 64/100\n",
      "1/1 [==============================] - 0s 10ms/step - loss: 32650192486400.0000\n",
      "Epoch 65/100\n",
      "1/1 [==============================] - 0s 10ms/step - loss: 32650169417728.0000\n",
      "Epoch 66/100\n",
      "1/1 [==============================] - 0s 20ms/step - loss: 32650144251904.0000\n",
      "Epoch 67/100\n",
      "1/1 [==============================] - 0s 20ms/step - loss: 32650121183232.0000\n",
      "Epoch 68/100\n",
      "1/1 [==============================] - 0s 10ms/step - loss: 32650098114560.0000\n",
      "Epoch 69/100\n",
      "1/1 [==============================] - 0s 10ms/step - loss: 32650072948736.0000\n",
      "Epoch 70/100\n",
      "1/1 [==============================] - 0s 10ms/step - loss: 32650049880064.0000\n",
      "Epoch 71/100\n",
      "1/1 [==============================] - 0s 20ms/step - loss: 32650028908544.0000\n",
      "Epoch 72/100\n",
      "1/1 [==============================] - 0s 12ms/step - loss: 32649997451264.0000\n",
      "Epoch 73/100\n",
      "1/1 [==============================] - 0s 10ms/step - loss: 32649976479744.0000\n",
      "Epoch 74/100\n",
      "1/1 [==============================] - 0s 18ms/step - loss: 32649949216768.0000\n",
      "Epoch 75/100\n",
      "1/1 [==============================] - 0s 18ms/step - loss: 32649928245248.0000\n",
      "Epoch 76/100\n",
      "1/1 [==============================] - 0s 18ms/step - loss: 32649905176576.0000\n",
      "Epoch 77/100\n",
      "1/1 [==============================] - 0s 20ms/step - loss: 32649871622144.0000\n",
      "Epoch 78/100\n",
      "1/1 [==============================] - 0s 20ms/step - loss: 32649848553472.0000\n",
      "Epoch 79/100\n",
      "1/1 [==============================] - 0s 20ms/step - loss: 32649819193344.0000\n",
      "Epoch 80/100\n",
      "1/1 [==============================] - 0s 20ms/step - loss: 32649796124672.0000\n",
      "Epoch 81/100\n",
      "1/1 [==============================] - 0s 18ms/step - loss: 32649775153152.0000\n",
      "Epoch 82/100\n",
      "1/1 [==============================] - 0s 18ms/step - loss: 32649745793024.0000\n",
      "Epoch 83/100\n",
      "1/1 [==============================] - 0s 18ms/step - loss: 32649718530048.0000\n",
      "Epoch 84/100\n",
      "1/1 [==============================] - 0s 18ms/step - loss: 32649695461376.0000\n",
      "Epoch 85/100\n",
      "1/1 [==============================] - 0s 18ms/step - loss: 32649661906944.0000\n",
      "Epoch 86/100\n",
      "1/1 [==============================] - 0s 20ms/step - loss: 32649636741120.0000\n",
      "Epoch 87/100\n",
      "1/1 [==============================] - 0s 18ms/step - loss: 32649611575296.0000\n",
      "Epoch 88/100\n",
      "1/1 [==============================] - 0s 20ms/step - loss: 32649584312320.0000\n",
      "Epoch 89/100\n"
     ]
    },
    {
     "name": "stdout",
     "output_type": "stream",
     "text": [
      "1/1 [==============================] - 0s 20ms/step - loss: 32649559146496.0000\n",
      "Epoch 90/100\n",
      "1/1 [==============================] - 0s 12ms/step - loss: 32649527689216.0000\n",
      "Epoch 91/100\n",
      "1/1 [==============================] - 0s 20ms/step - loss: 32649502523392.0000\n",
      "Epoch 92/100\n",
      "1/1 [==============================] - 0s 20ms/step - loss: 32649477357568.0000\n",
      "Epoch 93/100\n",
      "1/1 [==============================] - 0s 10ms/step - loss: 32649443803136.0000\n",
      "Epoch 94/100\n",
      "1/1 [==============================] - 0s 18ms/step - loss: 32649416540160.0000\n",
      "Epoch 95/100\n",
      "1/1 [==============================] - 0s 18ms/step - loss: 32649387180032.0000\n",
      "Epoch 96/100\n",
      "1/1 [==============================] - 0s 18ms/step - loss: 32649364111360.0000\n",
      "Epoch 97/100\n",
      "1/1 [==============================] - 0s 18ms/step - loss: 32649330556928.0000\n",
      "Epoch 98/100\n",
      "1/1 [==============================] - 0s 20ms/step - loss: 32649297002496.0000\n",
      "Epoch 99/100\n",
      "1/1 [==============================] - 0s 20ms/step - loss: 32649271836672.0000\n",
      "Epoch 100/100\n",
      "1/1 [==============================] - 0s 18ms/step - loss: 32649242476544.0000\n"
     ]
    },
    {
     "data": {
      "text/plain": [
       "<keras.src.callbacks.History at 0x1c177e89e50>"
      ]
     },
     "execution_count": 8,
     "metadata": {},
     "output_type": "execute_result"
    }
   ],
   "source": [
    "# Build the LSTM model\n",
    "model = Sequential()\n",
    "model.add(LSTM(50, activation='relu', input_shape=(look_back, 1)))\n",
    "model.add(Dense(1))\n",
    "model.compile(optimizer='adam', loss='mean_squared_error')\n",
    "# Train the model\n",
    "model.fit(X, y, epochs=100, batch_size=16, verbose=1)"
   ]
  },
  {
   "cell_type": "code",
   "execution_count": 9,
   "id": "f14eadc6",
   "metadata": {},
   "outputs": [],
   "source": [
    "# Make predictions for the next 5 years\n",
    "forecast_years = 5\n",
    "forecast = []\n",
    "\n",
    "# Initialize with the last known data\n",
    "current_data = X[-1]"
   ]
  },
  {
   "cell_type": "code",
   "execution_count": 10,
   "id": "01ae2e0e",
   "metadata": {},
   "outputs": [
    {
     "name": "stdout",
     "output_type": "stream",
     "text": [
      "1/1 [==============================] - 0s 464ms/step\n",
      "1/1 [==============================] - 0s 380ms/step\n",
      "1/1 [==============================] - 0s 38ms/step\n",
      "1/1 [==============================] - 0s 47ms/step\n",
      "1/1 [==============================] - 0s 31ms/step\n"
     ]
    }
   ],
   "source": [
    "for _ in range(forecast_years):\n",
    "    # Predict the next value\n",
    "    next_value = model.predict(current_data.reshape(1, look_back, 1))[0][0]\n",
    "    \n",
    "    # Append the prediction to the forecast\n",
    "    forecast.append(next_value)\n",
    "    \n",
    "    # Update the current_data for the next iteration\n",
    "    current_data = np.array([[next_value]])"
   ]
  },
  {
   "cell_type": "code",
   "execution_count": 11,
   "id": "f9ffbd12",
   "metadata": {},
   "outputs": [],
   "source": [
    "# Create a DataFrame for the forecasted years\n",
    "last_year = df['year'].iloc[-1]\n",
    "next_years_range = pd.date_range(start=str(last_year + 1), periods=forecast_years, freq='AS')\n",
    "\n",
    "forecast_df = pd.DataFrame({'year': next_years_range, 'value': forecast})\n",
    "forecast_df.set_index('year', inplace=True)"
   ]
  },
  {
   "cell_type": "code",
   "execution_count": 12,
   "id": "4b8358b5",
   "metadata": {},
   "outputs": [
    {
     "data": {
      "text/html": [
       "<div>\n",
       "<style scoped>\n",
       "    .dataframe tbody tr th:only-of-type {\n",
       "        vertical-align: middle;\n",
       "    }\n",
       "\n",
       "    .dataframe tbody tr th {\n",
       "        vertical-align: top;\n",
       "    }\n",
       "\n",
       "    .dataframe thead th {\n",
       "        text-align: right;\n",
       "    }\n",
       "</style>\n",
       "<table border=\"1\" class=\"dataframe\">\n",
       "  <thead>\n",
       "    <tr style=\"text-align: right;\">\n",
       "      <th></th>\n",
       "      <th>value</th>\n",
       "    </tr>\n",
       "    <tr>\n",
       "      <th>year</th>\n",
       "      <th></th>\n",
       "    </tr>\n",
       "  </thead>\n",
       "  <tbody>\n",
       "    <tr>\n",
       "      <th>2023-01-01</th>\n",
       "      <td>201.480881</td>\n",
       "    </tr>\n",
       "    <tr>\n",
       "      <th>2024-01-01</th>\n",
       "      <td>18.091314</td>\n",
       "    </tr>\n",
       "    <tr>\n",
       "      <th>2025-01-01</th>\n",
       "      <td>0.565340</td>\n",
       "    </tr>\n",
       "    <tr>\n",
       "      <th>2026-01-01</th>\n",
       "      <td>0.112463</td>\n",
       "    </tr>\n",
       "    <tr>\n",
       "      <th>2027-01-01</th>\n",
       "      <td>0.119099</td>\n",
       "    </tr>\n",
       "  </tbody>\n",
       "</table>\n",
       "</div>"
      ],
      "text/plain": [
       "                 value\n",
       "year                  \n",
       "2023-01-01  201.480881\n",
       "2024-01-01   18.091314\n",
       "2025-01-01    0.565340\n",
       "2026-01-01    0.112463\n",
       "2027-01-01    0.119099"
      ]
     },
     "execution_count": 12,
     "metadata": {},
     "output_type": "execute_result"
    }
   ],
   "source": [
    "forecast_df"
   ]
  },
  {
   "cell_type": "code",
   "execution_count": 13,
   "id": "83fba3bc",
   "metadata": {},
   "outputs": [],
   "source": [
    "df.set_index('year', inplace=True)\n",
    "df.index = pd.to_datetime(df.index, format='%Y')"
   ]
  },
  {
   "cell_type": "code",
   "execution_count": 14,
   "id": "4077e8cc",
   "metadata": {},
   "outputs": [
    {
     "data": {
      "image/png": "[encoded data removed]",
      "text/plain": [
       "<Figure size 1200x600 with 1 Axes>"
      ]
     },
     "metadata": {},
     "output_type": "display_data"
    }
   ],
   "source": [
    "# Plot the actual vs. forecasted values\n",
    "plt.figure(figsize=(12, 6))\n",
    "plt.plot(df.index, df['value'], label='Actual', marker='o')\n",
    "plt.plot(forecast_df.index, forecast_df['value'], label='Forecast', marker='x')\n",
    "plt.xlabel('Year')\n",
    "plt.ylabel('Value')\n",
    "plt.title('LSTM Sales Forecast for the Next 5 Years')\n",
    "plt.legend()\n",
    "plt.show()"
   ]
  },
  {
   "cell_type": "code",
   "execution_count": 15,
   "id": "f13142af",
   "metadata": {},
   "outputs": [
    {
     "name": "stdout",
     "output_type": "stream",
     "text": [
      "Test RMSE: 5713949.046\n"
     ]
    }
   ],
   "source": [
    "from sklearn.metrics import mean_absolute_error, mean_squared_error\n",
    "import numpy as np\n",
    "yhat = model.predict(X, verbose=0)\n",
    "rmse = np.sqrt(mean_squared_error(y, yhat))\n",
    "print('Test RMSE: %.3f' % rmse)"
   ]
  },
  {
   "cell_type": "code",
   "execution_count": 16,
   "id": "54e1b9f2",
   "metadata": {},
   "outputs": [
    {
     "data": {
      "text/plain": [
       "-100.1801117683761"
      ]
     },
     "execution_count": 16,
     "metadata": {},
     "output_type": "execute_result"
    }
   ],
   "source": [
    "from sklearn.metrics import r2_score\n",
    "r2=r2_score(y,yhat)*100\n",
    "r2"
   ]
  },
  {
   "cell_type": "code",
   "execution_count": null,
   "id": "99f528d7",
   "metadata": {},
   "outputs": [],
   "source": []
  }
 ],
 "metadata": {
  "kernelspec": {
   "display_name": "Python 3 (ipykernel)",
   "language": "python",
   "name": "python3"
  },
  "language_info": {
   "codemirror_mode": {
    "name": "ipython",
    "version": 3
   },
   "file_extension": ".py",
   "mimetype": "text/x-python",
   "name": "python",
   "nbconvert_exporter": "python",
   "pygments_lexer": "ipython3",
   "version": "3.11.3"
  }
 },
 "nbformat": 4,
 "nbformat_minor": 5
}
