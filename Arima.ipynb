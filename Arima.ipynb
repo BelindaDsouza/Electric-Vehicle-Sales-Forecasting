{
 "cells": [
  {
   "cell_type": "code",
   "execution_count": 2,
   "id": "a89c9717",
   "metadata": {},
   "outputs": [
    {
     "name": "stdout",
     "output_type": "stream",
     "text": [
      "The head of the dataset is:\n",
      "       region    category       parameter  mode powertrain  year      unit  \\\n",
      "0  Australia  Historical        EV sales  Cars        BEV  2011  Vehicles   \n",
      "1  Australia  Historical        EV stock  Cars        BEV  2011  Vehicles   \n",
      "2  Australia  Historical  EV sales share  Cars         EV  2011   percent   \n",
      "3  Australia  Historical  EV stock share  Cars         EV  2011   percent   \n",
      "4  Australia  Historical  EV stock share  Cars         EV  2012   percent   \n",
      "\n",
      "      value  \n",
      "0  49.00000  \n",
      "1  49.00000  \n",
      "2   0.00650  \n",
      "3   0.00046  \n",
      "4   0.00280   \n",
      "\n",
      "There are  10079  instances\n"
     ]
    }
   ],
   "source": [
    "import pandas as pd\n",
    "#Importing the dataset\n",
    "data=pd.read_csv(\"IEA GEVO 2023 data.csv\")\n",
    "#Head of the dataset\n",
    "print(\"The head of the dataset is:\\n\",data.head(5),'\\n')\n",
    "#Instances\n",
    "print(\"There are \",len(data.axes[0]),\" instances\")"
   ]
  },
  {
   "cell_type": "code",
   "execution_count": 3,
   "id": "388c7d26",
   "metadata": {},
   "outputs": [
    {
     "name": "stdout",
     "output_type": "stream",
     "text": [
      "         region    category parameter  mode powertrain  year      unit  \\\n",
      "10    Australia  Historical  EV sales  Cars        BEV  2013  Vehicles   \n",
      "11    Australia  Historical  EV sales  Cars       PHEV  2013  Vehicles   \n",
      "20    Australia  Historical  EV sales  Cars       PHEV  2014  Vehicles   \n",
      "21    Australia  Historical  EV sales  Cars        BEV  2014  Vehicles   \n",
      "22    Australia  Historical  EV sales  Cars        BEV  2015  Vehicles   \n",
      "...         ...         ...       ...   ...        ...   ...       ...   \n",
      "8902        USA  Historical  EV sales  Cars        BEV  2020  Vehicles   \n",
      "8951        USA  Historical  EV sales  Cars        BEV  2021  Vehicles   \n",
      "8956        USA  Historical  EV sales  Cars       PHEV  2021  Vehicles   \n",
      "8959        USA  Historical  EV sales  Cars       PHEV  2022  Vehicles   \n",
      "8964        USA  Historical  EV sales  Cars        BEV  2022  Vehicles   \n",
      "\n",
      "         value  \n",
      "10       190.0  \n",
      "11       100.0  \n",
      "20       950.0  \n",
      "21       370.0  \n",
      "22       760.0  \n",
      "...        ...  \n",
      "8902  230000.0  \n",
      "8951  470000.0  \n",
      "8956  160000.0  \n",
      "8959  190000.0  \n",
      "8964  800000.0  \n",
      "\n",
      "[1316 rows x 8 columns]\n"
     ]
    }
   ],
   "source": [
    "year_to_delete=[2010,2011,2012,2025,2030]\n",
    "df=data.loc[~data['year'].isin(year_to_delete)]\n",
    "\n",
    "#Deleting regions which are not applicable for analysis\n",
    "region_to_delete=['EU27','Other Europe','Rest of the world','World']\n",
    "df=df.loc[~df['region'].isin(region_to_delete)]\n",
    "\n",
    "#Deleting parameters which are not applicable for analysis\n",
    "parameter_to_delete=['EV sales share', 'EV stock share','EV stock','Oil displacement, million lge','Oil displacement Mbd','EV charging points','Electricity demand']\n",
    "df=df.loc[~df['parameter'].isin(parameter_to_delete)]\n",
    "\n",
    "#Deleting categorys which are not applicable for analysis\n",
    "category_to_delete=['Projection-STEPS','Projection-APS']\n",
    "df=df.loc[~df['category'].isin(category_to_delete)]\n",
    "print(df)"
   ]
  },
  {
   "cell_type": "code",
   "execution_count": 4,
   "id": "68946dad",
   "metadata": {},
   "outputs": [],
   "source": [
    "df = df.groupby('year')['value'].sum().reset_index()"
   ]
  },
  {
   "cell_type": "code",
   "execution_count": 5,
   "id": "6f6af893",
   "metadata": {},
   "outputs": [
    {
     "data": {
      "text/html": [
       "<div>\n",
       "<style scoped>\n",
       "    .dataframe tbody tr th:only-of-type {\n",
       "        vertical-align: middle;\n",
       "    }\n",
       "\n",
       "    .dataframe tbody tr th {\n",
       "        vertical-align: top;\n",
       "    }\n",
       "\n",
       "    .dataframe thead th {\n",
       "        text-align: right;\n",
       "    }\n",
       "</style>\n",
       "<table border=\"1\" class=\"dataframe\">\n",
       "  <thead>\n",
       "    <tr style=\"text-align: right;\">\n",
       "      <th></th>\n",
       "      <th>year</th>\n",
       "      <th>value</th>\n",
       "    </tr>\n",
       "  </thead>\n",
       "  <tbody>\n",
       "    <tr>\n",
       "      <th>0</th>\n",
       "      <td>2013</td>\n",
       "      <td>2.881130e+05</td>\n",
       "    </tr>\n",
       "    <tr>\n",
       "      <th>1</th>\n",
       "      <td>2014</td>\n",
       "      <td>4.576780e+05</td>\n",
       "    </tr>\n",
       "    <tr>\n",
       "      <th>2</th>\n",
       "      <td>2015</td>\n",
       "      <td>9.099040e+05</td>\n",
       "    </tr>\n",
       "    <tr>\n",
       "      <th>3</th>\n",
       "      <td>2016</td>\n",
       "      <td>1.121243e+06</td>\n",
       "    </tr>\n",
       "    <tr>\n",
       "      <th>4</th>\n",
       "      <td>2017</td>\n",
       "      <td>1.731703e+06</td>\n",
       "    </tr>\n",
       "    <tr>\n",
       "      <th>5</th>\n",
       "      <td>2018</td>\n",
       "      <td>2.651572e+06</td>\n",
       "    </tr>\n",
       "    <tr>\n",
       "      <th>6</th>\n",
       "      <td>2019</td>\n",
       "      <td>2.864301e+06</td>\n",
       "    </tr>\n",
       "    <tr>\n",
       "      <th>7</th>\n",
       "      <td>2020</td>\n",
       "      <td>4.529404e+06</td>\n",
       "    </tr>\n",
       "    <tr>\n",
       "      <th>8</th>\n",
       "      <td>2021</td>\n",
       "      <td>9.025455e+06</td>\n",
       "    </tr>\n",
       "    <tr>\n",
       "      <th>9</th>\n",
       "      <td>2022</td>\n",
       "      <td>1.309026e+07</td>\n",
       "    </tr>\n",
       "  </tbody>\n",
       "</table>\n",
       "</div>"
      ],
      "text/plain": [
       "   year         value\n",
       "0  2013  2.881130e+05\n",
       "1  2014  4.576780e+05\n",
       "2  2015  9.099040e+05\n",
       "3  2016  1.121243e+06\n",
       "4  2017  1.731703e+06\n",
       "5  2018  2.651572e+06\n",
       "6  2019  2.864301e+06\n",
       "7  2020  4.529404e+06\n",
       "8  2021  9.025455e+06\n",
       "9  2022  1.309026e+07"
      ]
     },
     "execution_count": 5,
     "metadata": {},
     "output_type": "execute_result"
    }
   ],
   "source": [
    "df"
   ]
  },
  {
   "cell_type": "code",
   "execution_count": 6,
   "id": "ab45f1a7",
   "metadata": {},
   "outputs": [],
   "source": [
    "#pip install pmdarima"
   ]
  },
  {
   "cell_type": "code",
   "execution_count": 7,
   "id": "0be57f8d",
   "metadata": {},
   "outputs": [],
   "source": [
    "import pmdarima as pm"
   ]
  },
  {
   "cell_type": "code",
   "execution_count": 8,
   "id": "b7ee644a",
   "metadata": {},
   "outputs": [],
   "source": [
    "from statsmodels.tsa.arima.model import ARIMA\n",
    "import pandas as pd\n",
    "import numpy as np\n",
    "import matplotlib.pyplot as plt"
   ]
  },
  {
   "cell_type": "code",
   "execution_count": 9,
   "id": "f55c7d95",
   "metadata": {},
   "outputs": [
    {
     "data": {
      "image/png": "[encoded data removed]",
      "text/plain": [
       "<Figure size 864x432 with 1 Axes>"
      ]
     },
     "metadata": {
      "needs_background": "light"
     },
     "output_type": "display_data"
    }
   ],
   "source": [
    "# Set 'year' as the index\n",
    "#df.set_index('year', inplace=True)\n",
    "\n",
    "# Visualize your data to understand its characteristics\n",
    "plt.figure(figsize=(12, 6))\n",
    "plt.plot(df['year'], df['value'], label='Sales')\n",
    "plt.xlabel('Year')\n",
    "plt.ylabel('Sales')\n",
    "plt.title('Sales Data')\n",
    "plt.legend()\n",
    "plt.show()"
   ]
  },
  {
   "cell_type": "code",
   "execution_count": 10,
   "id": "3744d901",
   "metadata": {},
   "outputs": [
    {
     "name": "stderr",
     "output_type": "stream",
     "text": [
      "C:\\Users\\pc7\\AppData\\Roaming\\Python\\Python38\\site-packages\\statsmodels\\tsa\\statespace\\sarimax.py:966: UserWarning: Non-stationary starting autoregressive parameters found. Using zeros as starting parameters.\n",
      "  warn('Non-stationary starting autoregressive parameters'\n"
     ]
    },
    {
     "name": "stdout",
     "output_type": "stream",
     "text": [
      "                               SARIMAX Results                                \n",
      "==============================================================================\n",
      "Dep. Variable:                  value   No. Observations:                   10\n",
      "Model:                 ARIMA(1, 1, 1)   Log Likelihood                -138.316\n",
      "Date:                Mon, 30 Oct 2023   AIC                            282.632\n",
      "Time:                        14:53:55   BIC                            283.224\n",
      "Sample:                             0   HQIC                           281.355\n",
      "                                 - 10                                         \n",
      "Covariance Type:                  opg                                         \n",
      "==============================================================================\n",
      "                 coef    std err          z      P>|z|      [0.025      0.975]\n",
      "------------------------------------------------------------------------------\n",
      "ar.L1          0.7572      0.943      0.803      0.422      -1.091       2.605\n",
      "ma.L1          0.7351      1.073      0.685      0.493      -1.369       2.839\n",
      "sigma2      2.127e+12   2.96e-13   7.19e+24      0.000    2.13e+12    2.13e+12\n",
      "===================================================================================\n",
      "Ljung-Box (L1) (Q):                   0.08   Jarque-Bera (JB):                 1.09\n",
      "Prob(Q):                              0.77   Prob(JB):                         0.58\n",
      "Heteroskedasticity (H):              31.05   Skew:                             0.73\n",
      "Prob(H) (two-sided):                  0.02   Kurtosis:                         2.13\n",
      "===================================================================================\n",
      "\n",
      "Warnings:\n",
      "[1] Covariance matrix calculated using the outer product of gradients (complex-step).\n",
      "[2] Covariance matrix is singular or near-singular, with condition number 2.9e+41. Standard errors may be unstable.\n"
     ]
    }
   ],
   "source": [
    "# Specify ARIMA model orders (p, d, q)\n",
    "p = 1  # AR order\n",
    "d = 1  # Integration order (for differencing)\n",
    "q = 1  # MA order\n",
    "X=df['year']\n",
    "y=df['value']\n",
    "# Fit the ARIMA model\n",
    "model = ARIMA(y, order=(p, d, q))\n",
    "results = model.fit()\n",
    "\n",
    "# Print model summary\n",
    "print(results.summary())"
   ]
  },
  {
   "cell_type": "code",
   "execution_count": 11,
   "id": "216345d2",
   "metadata": {},
   "outputs": [
    {
     "data": {
      "image/png": "[encoded data removed]",
      "text/plain": [
       "<Figure size 864x432 with 1 Axes>"
      ]
     },
     "metadata": {
      "needs_background": "light"
     },
     "output_type": "display_data"
    }
   ],
   "source": [
    "plt.figure(figsize=(12, 6))\n",
    "plt.plot(df.index, df['value'], label='Observed')\n",
    "plt.plot(df.index, results.fittedvalues, color='red', label='Fitted', alpha=0.7)\n",
    "plt.xlabel('Year')\n",
    "plt.ylabel('Sales')\n",
    "plt.title('ARIMA Model Fit')\n",
    "plt.legend()\n",
    "plt.show()"
   ]
  },
  {
   "cell_type": "code",
   "execution_count": 12,
   "id": "6b6b317d",
   "metadata": {},
   "outputs": [],
   "source": [
    "forecast_years = 5  # Specify the number of steps (years) to forecast\n",
    "forecast = results.get_forecast(steps=forecast_years)"
   ]
  },
  {
   "cell_type": "code",
   "execution_count": 13,
   "id": "7bc87f2d",
   "metadata": {},
   "outputs": [
    {
     "data": {
      "text/plain": [
       "10    1.563502e+07\n",
       "11    1.756191e+07\n",
       "12    1.902094e+07\n",
       "13    2.012570e+07\n",
       "14    2.096223e+07\n",
       "Name: predicted_mean, dtype: float64"
      ]
     },
     "execution_count": 13,
     "metadata": {},
     "output_type": "execute_result"
    }
   ],
   "source": [
    "forecast_mean = forecast.predicted_mean\n",
    "forecast_ci = forecast.conf_int()\n",
    "forecast_mean"
   ]
  },
  {
   "cell_type": "code",
   "execution_count": 14,
   "id": "4286e6ae",
   "metadata": {},
   "outputs": [
    {
     "name": "stdout",
     "output_type": "stream",
     "text": [
      "Forecasted Sales:\n",
      "10    1.563502e+07\n",
      "11    1.756191e+07\n",
      "12    1.902094e+07\n",
      "13    2.012570e+07\n",
      "14    2.096223e+07\n",
      "Name: predicted_mean, dtype: float64\n"
     ]
    }
   ],
   "source": [
    "print(\"Forecasted Sales:\")\n",
    "print(forecast_mean.tail(forecast_years))"
   ]
  },
  {
   "cell_type": "code",
   "execution_count": 15,
   "id": "a91c35ab",
   "metadata": {},
   "outputs": [],
   "source": [
    "from dateutil.relativedelta import relativedelta"
   ]
  },
  {
   "cell_type": "code",
   "execution_count": 16,
   "id": "2ddf6b19",
   "metadata": {},
   "outputs": [],
   "source": [
    "df.set_index('year', inplace=True)"
   ]
  },
  {
   "cell_type": "code",
   "execution_count": 17,
   "id": "2ddfdba3",
   "metadata": {},
   "outputs": [],
   "source": [
    "df.index = pd.to_datetime(df.index, format='%Y')"
   ]
  },
  {
   "cell_type": "code",
   "execution_count": 18,
   "id": "a68ee286",
   "metadata": {},
   "outputs": [],
   "source": [
    "last_year = df.index[-1].year\n",
    "next_year_date = last_year + 1"
   ]
  },
  {
   "cell_type": "code",
   "execution_count": 19,
   "id": "5fe48f24",
   "metadata": {},
   "outputs": [],
   "source": [
    "next_years_range = pd.date_range(start=f\"{next_year_date}-01-01\", periods=forecast_years, freq='AS')"
   ]
  },
  {
   "cell_type": "code",
   "execution_count": 20,
   "id": "4879f754",
   "metadata": {},
   "outputs": [
    {
     "name": "stdout",
     "output_type": "stream",
     "text": [
      "Next 5 Years and Predicted Sales:\n",
      "Year: 2023, Predicted Sales: 15635024.54\n",
      "Year: 2024, Predicted Sales: 17561909.12\n",
      "Year: 2025, Predicted Sales: 19020935.40\n",
      "Year: 2026, Predicted Sales: 20125701.99\n",
      "Year: 2027, Predicted Sales: 20962225.10\n"
     ]
    }
   ],
   "source": [
    "print(\"Next 5 Years and Predicted Sales:\")\n",
    "for year, sales_pred in zip(next_years_range, forecast_mean):\n",
    "    print(f\"Year: {year.year}, Predicted Sales: {sales_pred:.2f}\")"
   ]
  },
  {
   "cell_type": "code",
   "execution_count": 21,
   "id": "0d2dc257",
   "metadata": {},
   "outputs": [
    {
     "data": {
      "image/png": "[encoded data removed]",
      "text/plain": [
       "<Figure size 864x432 with 1 Axes>"
      ]
     },
     "metadata": {
      "needs_background": "light"
     },
     "output_type": "display_data"
    }
   ],
   "source": [
    "plt.figure(figsize=(12, 6))\n",
    "plt.plot(df.index, df['value'], label='Observed', marker='o', color='blue')\n",
    "plt.plot(next_years_range, forecast_mean.values, label='Forecast', marker='x', color='green')\n",
    "plt.fill_between(next_years_range, forecast_ci.iloc[:, 0], forecast_ci.iloc[:, 1], color='pink', alpha=0.3)\n",
    "plt.xlabel('Year')\n",
    "plt.ylabel('Sales')\n",
    "plt.title('Sales Forecast')\n",
    "plt.legend()\n",
    "plt.show()"
   ]
  },
  {
   "cell_type": "code",
   "execution_count": 22,
   "id": "7ef9d72f",
   "metadata": {},
   "outputs": [],
   "source": [
    "result=results.fittedvalues"
   ]
  },
  {
   "cell_type": "code",
   "execution_count": 23,
   "id": "9da69aa5",
   "metadata": {},
   "outputs": [
    {
     "name": "stdout",
     "output_type": "stream",
     "text": [
      "Mean Absolute Error (MAE): 674378.11\n",
      "Mean Squared Error (MSE): 853478713648.68\n",
      "Root Mean Squared Error (RMSE): 923839.12\n"
     ]
    }
   ],
   "source": [
    "from sklearn.metrics import mean_absolute_error, mean_squared_error\n",
    "import numpy as np\n",
    "\n",
    "# Assuming you have actual sales data for the testing period in a DataFrame 'actual_df'\n",
    "# 'forecast_mean' contains your forecasted values\n",
    "actual_sales = df['value']  # Replace 'sales' with the actual column name\n",
    "\n",
    "# Calculate MAE\n",
    "mae = mean_absolute_error(actual_sales, result)\n",
    "\n",
    "# Calculate MSE\n",
    "mse = mean_squared_error(actual_sales, result)\n",
    "\n",
    "# Calculate RMSE\n",
    "rmse = np.sqrt(mse)\n",
    "\n",
    "\n",
    "print(f\"Mean Absolute Error (MAE): {mae:.2f}\")\n",
    "print(f\"Mean Squared Error (MSE): {mse:.2f}\")\n",
    "print(f\"Root Mean Squared Error (RMSE): {rmse:.2f}\")\n"
   ]
  },
  {
   "cell_type": "code",
   "execution_count": 24,
   "id": "d0343406",
   "metadata": {},
   "outputs": [
    {
     "data": {
      "text/plain": [
       "0.9464817763969862"
      ]
     },
     "execution_count": 24,
     "metadata": {},
     "output_type": "execute_result"
    }
   ],
   "source": [
    "from sklearn.metrics import r2_score\n",
    "r2=r2_score(actual_sales,result)\n",
    "r2"
   ]
  },
  {
   "cell_type": "code",
   "execution_count": null,
   "id": "020a5629",
   "metadata": {},
   "outputs": [],
   "source": []
  }
 ],
 "metadata": {
  "kernelspec": {
   "display_name": "Python 3 (ipykernel)",
   "language": "python",
   "name": "python3"
  },
  "language_info": {
   "codemirror_mode": {
    "name": "ipython",
    "version": 3
   },
   "file_extension": ".py",
   "mimetype": "text/x-python",
   "name": "python",
   "nbconvert_exporter": "python",
   "pygments_lexer": "ipython3",
   "version": "3.11.3"
  }
 },
 "nbformat": 4,
 "nbformat_minor": 5
}
